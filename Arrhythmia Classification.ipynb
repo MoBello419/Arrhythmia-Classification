{
 "cells": [
  {
   "cell_type": "code",
   "execution_count": 1,
   "id": "9110b841",
   "metadata": {},
   "outputs": [],
   "source": [
    "import numpy as np\n",
    "import pandas as pd"
   ]
  },
  {
   "cell_type": "markdown",
   "id": "5e05b0c3",
   "metadata": {},
   "source": [
    "#### This dataset was gotten from kaggle, it  contains features extracted two-lead ECG signal (lead II, V) from the MIT-BIH Arrhythmia dataset (Physionet). It has five classes/categories: N (Normal), S (Supraventricular ectopic beat), V (Ventricular ectopic beat), F (Fusion beat), and Q (Unknown beat). The dataset is used to classify arrhythmia detection"
   ]
  },
  {
   "cell_type": "code",
   "execution_count": 2,
   "id": "acfc47ec",
   "metadata": {},
   "outputs": [
    {
     "name": "stderr",
     "output_type": "stream",
     "text": [
      "C:\\Users\\muham\\AppData\\Local\\Temp\\ipykernel_36612\\717472379.py:1: DtypeWarning: Columns (1) have mixed types. Specify dtype option on import or set low_memory=False.\n",
      "  heart_df = pd.read_csv(\"C:/Users/muham/ECG Arrhythmia/Sudden Cardiac Death Holter Database.csv\")\n"
     ]
    },
    {
     "data": {
      "text/html": [
       "<div>\n",
       "<style scoped>\n",
       "    .dataframe tbody tr th:only-of-type {\n",
       "        vertical-align: middle;\n",
       "    }\n",
       "\n",
       "    .dataframe tbody tr th {\n",
       "        vertical-align: top;\n",
       "    }\n",
       "\n",
       "    .dataframe thead th {\n",
       "        text-align: right;\n",
       "    }\n",
       "</style>\n",
       "<table border=\"1\" class=\"dataframe\">\n",
       "  <thead>\n",
       "    <tr style=\"text-align: right;\">\n",
       "      <th></th>\n",
       "      <th>record</th>\n",
       "      <th>type</th>\n",
       "      <th>0_pre-RR</th>\n",
       "      <th>0_post-RR</th>\n",
       "      <th>0_pPeak</th>\n",
       "      <th>0_tPeak</th>\n",
       "      <th>0_rPeak</th>\n",
       "      <th>0_sPeak</th>\n",
       "      <th>0_qPeak</th>\n",
       "      <th>0_qrs_interval</th>\n",
       "      <th>...</th>\n",
       "      <th>1_qPeak</th>\n",
       "      <th>1_qrs_interval</th>\n",
       "      <th>1_pq_interval</th>\n",
       "      <th>1_qt_interval</th>\n",
       "      <th>1_st_interval</th>\n",
       "      <th>1_qrs_morph0</th>\n",
       "      <th>1_qrs_morph1</th>\n",
       "      <th>1_qrs_morph2</th>\n",
       "      <th>1_qrs_morph3</th>\n",
       "      <th>1_qrs_morph4</th>\n",
       "    </tr>\n",
       "  </thead>\n",
       "  <tbody>\n",
       "    <tr>\n",
       "      <th>0</th>\n",
       "      <td>30.0</td>\n",
       "      <td>N</td>\n",
       "      <td>2.0</td>\n",
       "      <td>194.0</td>\n",
       "      <td>0.003261</td>\n",
       "      <td>0.159554</td>\n",
       "      <td>-0.046726</td>\n",
       "      <td>-0.046726</td>\n",
       "      <td>-0.129022</td>\n",
       "      <td>4.0</td>\n",
       "      <td>...</td>\n",
       "      <td>-0.131451</td>\n",
       "      <td>29.0</td>\n",
       "      <td>17.0</td>\n",
       "      <td>95.0</td>\n",
       "      <td>49.0</td>\n",
       "      <td>-0.131451</td>\n",
       "      <td>-0.015809</td>\n",
       "      <td>0.109493</td>\n",
       "      <td>-0.153622</td>\n",
       "      <td>-0.200331</td>\n",
       "    </tr>\n",
       "    <tr>\n",
       "      <th>1</th>\n",
       "      <td>30.0</td>\n",
       "      <td>N</td>\n",
       "      <td>194.0</td>\n",
       "      <td>188.0</td>\n",
       "      <td>-0.058462</td>\n",
       "      <td>0.067970</td>\n",
       "      <td>0.285091</td>\n",
       "      <td>-0.272093</td>\n",
       "      <td>-0.062109</td>\n",
       "      <td>25.0</td>\n",
       "      <td>...</td>\n",
       "      <td>-0.048727</td>\n",
       "      <td>25.0</td>\n",
       "      <td>2.0</td>\n",
       "      <td>76.0</td>\n",
       "      <td>49.0</td>\n",
       "      <td>-0.048727</td>\n",
       "      <td>0.034657</td>\n",
       "      <td>0.282264</td>\n",
       "      <td>-0.013981</td>\n",
       "      <td>-0.226871</td>\n",
       "    </tr>\n",
       "    <tr>\n",
       "      <th>2</th>\n",
       "      <td>30.0</td>\n",
       "      <td>N</td>\n",
       "      <td>188.0</td>\n",
       "      <td>194.0</td>\n",
       "      <td>-0.012959</td>\n",
       "      <td>-0.089749</td>\n",
       "      <td>0.329466</td>\n",
       "      <td>-0.204659</td>\n",
       "      <td>-0.012971</td>\n",
       "      <td>29.0</td>\n",
       "      <td>...</td>\n",
       "      <td>-0.005256</td>\n",
       "      <td>29.0</td>\n",
       "      <td>5.0</td>\n",
       "      <td>53.0</td>\n",
       "      <td>19.0</td>\n",
       "      <td>-0.005256</td>\n",
       "      <td>0.007639</td>\n",
       "      <td>0.116198</td>\n",
       "      <td>0.271552</td>\n",
       "      <td>-0.114414</td>\n",
       "    </tr>\n",
       "    <tr>\n",
       "      <th>3</th>\n",
       "      <td>30.0</td>\n",
       "      <td>N</td>\n",
       "      <td>194.0</td>\n",
       "      <td>198.0</td>\n",
       "      <td>-0.032815</td>\n",
       "      <td>-0.113236</td>\n",
       "      <td>0.398437</td>\n",
       "      <td>-0.178191</td>\n",
       "      <td>-0.068497</td>\n",
       "      <td>36.0</td>\n",
       "      <td>...</td>\n",
       "      <td>-0.069992</td>\n",
       "      <td>35.0</td>\n",
       "      <td>26.0</td>\n",
       "      <td>76.0</td>\n",
       "      <td>15.0</td>\n",
       "      <td>-0.069992</td>\n",
       "      <td>-0.049489</td>\n",
       "      <td>0.030777</td>\n",
       "      <td>0.378075</td>\n",
       "      <td>-0.074389</td>\n",
       "    </tr>\n",
       "    <tr>\n",
       "      <th>4</th>\n",
       "      <td>30.0</td>\n",
       "      <td>N</td>\n",
       "      <td>198.0</td>\n",
       "      <td>196.0</td>\n",
       "      <td>-0.047353</td>\n",
       "      <td>0.164835</td>\n",
       "      <td>0.364677</td>\n",
       "      <td>-0.207953</td>\n",
       "      <td>-0.061457</td>\n",
       "      <td>39.0</td>\n",
       "      <td>...</td>\n",
       "      <td>-0.072007</td>\n",
       "      <td>35.0</td>\n",
       "      <td>25.0</td>\n",
       "      <td>115.0</td>\n",
       "      <td>55.0</td>\n",
       "      <td>-0.072007</td>\n",
       "      <td>-0.053251</td>\n",
       "      <td>0.044583</td>\n",
       "      <td>0.313201</td>\n",
       "      <td>-0.157637</td>\n",
       "    </tr>\n",
       "  </tbody>\n",
       "</table>\n",
       "<p>5 rows × 34 columns</p>\n",
       "</div>"
      ],
      "text/plain": [
       "   record type  0_pre-RR  0_post-RR   0_pPeak   0_tPeak   0_rPeak   0_sPeak  \\\n",
       "0    30.0    N       2.0      194.0  0.003261  0.159554 -0.046726 -0.046726   \n",
       "1    30.0    N     194.0      188.0 -0.058462  0.067970  0.285091 -0.272093   \n",
       "2    30.0    N     188.0      194.0 -0.012959 -0.089749  0.329466 -0.204659   \n",
       "3    30.0    N     194.0      198.0 -0.032815 -0.113236  0.398437 -0.178191   \n",
       "4    30.0    N     198.0      196.0 -0.047353  0.164835  0.364677 -0.207953   \n",
       "\n",
       "    0_qPeak  0_qrs_interval  ...   1_qPeak  1_qrs_interval  1_pq_interval  \\\n",
       "0 -0.129022             4.0  ... -0.131451            29.0           17.0   \n",
       "1 -0.062109            25.0  ... -0.048727            25.0            2.0   \n",
       "2 -0.012971            29.0  ... -0.005256            29.0            5.0   \n",
       "3 -0.068497            36.0  ... -0.069992            35.0           26.0   \n",
       "4 -0.061457            39.0  ... -0.072007            35.0           25.0   \n",
       "\n",
       "   1_qt_interval  1_st_interval  1_qrs_morph0  1_qrs_morph1  1_qrs_morph2  \\\n",
       "0           95.0           49.0     -0.131451     -0.015809      0.109493   \n",
       "1           76.0           49.0     -0.048727      0.034657      0.282264   \n",
       "2           53.0           19.0     -0.005256      0.007639      0.116198   \n",
       "3           76.0           15.0     -0.069992     -0.049489      0.030777   \n",
       "4          115.0           55.0     -0.072007     -0.053251      0.044583   \n",
       "\n",
       "   1_qrs_morph3  1_qrs_morph4  \n",
       "0     -0.153622     -0.200331  \n",
       "1     -0.013981     -0.226871  \n",
       "2      0.271552     -0.114414  \n",
       "3      0.378075     -0.074389  \n",
       "4      0.313201     -0.157637  \n",
       "\n",
       "[5 rows x 34 columns]"
      ]
     },
     "execution_count": 2,
     "metadata": {},
     "output_type": "execute_result"
    }
   ],
   "source": [
    "heart_df = pd.read_csv(\"C:/Users/muham/ECG Arrhythmia/Sudden Cardiac Death Holter Database.csv\")\n",
    "heart_df.head()"
   ]
  },
  {
   "cell_type": "code",
   "execution_count": 3,
   "id": "425bc5b4",
   "metadata": {},
   "outputs": [
    {
     "data": {
      "text/plain": [
       "(502808, 34)"
      ]
     },
     "execution_count": 3,
     "metadata": {},
     "output_type": "execute_result"
    }
   ],
   "source": [
    "heart_df.shape"
   ]
  },
  {
   "cell_type": "code",
   "execution_count": 4,
   "id": "6341f405",
   "metadata": {},
   "outputs": [
    {
     "data": {
      "text/plain": [
       "17095472"
      ]
     },
     "execution_count": 4,
     "metadata": {},
     "output_type": "execute_result"
    }
   ],
   "source": [
    "heart_df.size"
   ]
  },
  {
   "cell_type": "code",
   "execution_count": 5,
   "id": "7090d9d1",
   "metadata": {},
   "outputs": [
    {
     "data": {
      "text/plain": [
       "Index(['record', 'type', '0_pre-RR', '0_post-RR', '0_pPeak', '0_tPeak',\n",
       "       '0_rPeak', '0_sPeak', '0_qPeak', '0_qrs_interval', '0_pq_interval',\n",
       "       '0_qt_interval', '0_st_interval', '0_qrs_morph0', '0_qrs_morph1',\n",
       "       '0_qrs_morph2', '0_qrs_morph3', '0_qrs_morph4', '1_pre-RR', '1_post-RR',\n",
       "       '1_pPeak', '1_tPeak', '1_rPeak', '1_sPeak', '1_qPeak', '1_qrs_interval',\n",
       "       '1_pq_interval', '1_qt_interval', '1_st_interval', '1_qrs_morph0',\n",
       "       '1_qrs_morph1', '1_qrs_morph2', '1_qrs_morph3', '1_qrs_morph4'],\n",
       "      dtype='object')"
      ]
     },
     "execution_count": 5,
     "metadata": {},
     "output_type": "execute_result"
    }
   ],
   "source": [
    "heart_df.columns"
   ]
  },
  {
   "cell_type": "code",
   "execution_count": 6,
   "id": "a05170e1",
   "metadata": {},
   "outputs": [
    {
     "data": {
      "text/plain": [
       "record             76217\n",
       "type               76217\n",
       "0_pre-RR           76217\n",
       "0_post-RR          76217\n",
       "0_pPeak            76217\n",
       "0_tPeak            76217\n",
       "0_rPeak            76217\n",
       "0_sPeak            76217\n",
       "0_qPeak            76217\n",
       "0_qrs_interval     76217\n",
       "0_pq_interval      76217\n",
       "0_qt_interval      76217\n",
       "0_st_interval      76217\n",
       "0_qrs_morph0       76217\n",
       "0_qrs_morph1       76217\n",
       "0_qrs_morph2       76217\n",
       "0_qrs_morph3       76217\n",
       "0_qrs_morph4       76217\n",
       "1_pre-RR          174615\n",
       "1_post-RR         174615\n",
       "1_pPeak           174615\n",
       "1_tPeak           174615\n",
       "1_rPeak           174615\n",
       "1_sPeak           174615\n",
       "1_qPeak           174615\n",
       "1_qrs_interval    174615\n",
       "1_pq_interval     174615\n",
       "1_qt_interval     174615\n",
       "1_st_interval     174615\n",
       "1_qrs_morph0      174615\n",
       "1_qrs_morph1      174615\n",
       "1_qrs_morph2      174615\n",
       "1_qrs_morph3      174615\n",
       "1_qrs_morph4      174615\n",
       "dtype: int64"
      ]
     },
     "execution_count": 6,
     "metadata": {},
     "output_type": "execute_result"
    }
   ],
   "source": [
    "# Check for missing values\n",
    "heart_df.isna().sum()"
   ]
  },
  {
   "cell_type": "code",
   "execution_count": 7,
   "id": "67d29022",
   "metadata": {},
   "outputs": [
    {
     "data": {
      "text/plain": [
       "(251976, 34)"
      ]
     },
     "execution_count": 7,
     "metadata": {},
     "output_type": "execute_result"
    }
   ],
   "source": [
    "# Missing values are dropped\n",
    "dr_df = heart_df.dropna(subset=['record', 'type', '0_pre-RR', '0_post-RR', '0_pPeak', '0_tPeak',\n",
    "       '0_rPeak', '0_sPeak', '0_qPeak', '0_qrs_interval', '0_pq_interval',\n",
    "       '0_qt_interval', '0_st_interval', '0_qrs_morph0', '0_qrs_morph1',\n",
    "       '0_qrs_morph2', '0_qrs_morph3', '0_qrs_morph4', '1_pre-RR', '1_post-RR',\n",
    "       '1_pPeak', '1_tPeak', '1_rPeak', '1_sPeak', '1_qPeak', '1_qrs_interval',\n",
    "       '1_pq_interval', '1_qt_interval', '1_st_interval', '1_qrs_morph0',\n",
    "       '1_qrs_morph1', '1_qrs_morph2', '1_qrs_morph3', '1_qrs_morph4'])\n",
    "dr_df.shape"
   ]
  },
  {
   "cell_type": "markdown",
   "id": "a8d97a51",
   "metadata": {},
   "source": [
    "#### The label (type) contains five types of classes:  N (Normal), S (Supraventricular ectopic beat), V (Ventricular ectopic beat), F (Fusion beat), and Q (Unknown beat). S, V, F and Q can all be classified as Abnormal and N is Normal"
   ]
  },
  {
   "cell_type": "code",
   "execution_count": 8,
   "id": "4bb020ed",
   "metadata": {},
   "outputs": [],
   "source": [
    "pd.options.mode.chained_assignment = None"
   ]
  },
  {
   "cell_type": "code",
   "execution_count": 9,
   "id": "38561c7c",
   "metadata": {},
   "outputs": [
    {
     "data": {
      "text/plain": [
       "array(['N', 'VEB', 'SVEB', 'F', 'Q'], dtype=object)"
      ]
     },
     "execution_count": 9,
     "metadata": {},
     "output_type": "execute_result"
    }
   ],
   "source": [
    "dr_df['type'].unique()"
   ]
  },
  {
   "cell_type": "code",
   "execution_count": 10,
   "id": "3006949e",
   "metadata": {},
   "outputs": [
    {
     "data": {
      "text/plain": [
       "array(['N', 'A'], dtype=object)"
      ]
     },
     "execution_count": 10,
     "metadata": {},
     "output_type": "execute_result"
    }
   ],
   "source": [
    "dr_df['type'] = dr_df['type'].map({'VEB':'A','SVEB':'A', 'F':'A','Q':'A','N':'N'})\n",
    "dr_df['type'].unique()"
   ]
  },
  {
   "cell_type": "code",
   "execution_count": 11,
   "id": "6abf2a5b",
   "metadata": {},
   "outputs": [],
   "source": [
    "# Label Encoder\n",
    "from sklearn.preprocessing import LabelEncoder\n",
    "class_le = LabelEncoder()\n",
    "dr_df['type'] = class_le.fit_transform(dr_df['type'].values)"
   ]
  },
  {
   "cell_type": "code",
   "execution_count": 12,
   "id": "7e2e0e90",
   "metadata": {},
   "outputs": [
    {
     "data": {
      "text/plain": [
       "array([1, 0])"
      ]
     },
     "execution_count": 12,
     "metadata": {},
     "output_type": "execute_result"
    }
   ],
   "source": [
    "dr_df['type'].unique()"
   ]
  },
  {
   "cell_type": "code",
   "execution_count": 13,
   "id": "c727c112",
   "metadata": {},
   "outputs": [],
   "source": [
    "# Splitting dataset\n",
    "from sklearn.model_selection import train_test_split\n",
    "X, y = dr_df.iloc[:,2:].values, dr_df.iloc[:,1].values\n",
    "X_train, X_test, y_train, y_test = train_test_split(X, y,\n",
    "                                                    test_size=0.2,\n",
    "                                                    random_state=123,\n",
    "                                                    stratify=y)"
   ]
  },
  {
   "cell_type": "code",
   "execution_count": 14,
   "id": "b63aa77d",
   "metadata": {},
   "outputs": [
    {
     "name": "stdout",
     "output_type": "stream",
     "text": [
      "Xtrain Shape (201580, 32)\n",
      "Xtest Shape (50396, 32)\n",
      "ytrain Shape (201580,)\n",
      "ytest Shape (50396,)\n"
     ]
    }
   ],
   "source": [
    "print('Xtrain Shape', X_train.shape)\n",
    "print('Xtest Shape', X_test.shape)\n",
    "print('ytrain Shape', y_train.shape)\n",
    "print('ytest Shape', y_test.shape)"
   ]
  },
  {
   "cell_type": "markdown",
   "id": "16e0ab79",
   "metadata": {},
   "source": [
    "### Logistic Regression"
   ]
  },
  {
   "cell_type": "code",
   "execution_count": 15,
   "id": "dd83aed3",
   "metadata": {},
   "outputs": [
    {
     "name": "stdout",
     "output_type": "stream",
     "text": [
      "Training Accuracy is 97.037%\n",
      "Test Accuracy is 97.123%\n"
     ]
    }
   ],
   "source": [
    "# Create a pipeline and Classify using Logistic Regression\n",
    "from sklearn.preprocessing import StandardScaler\n",
    "from sklearn.discriminant_analysis import LinearDiscriminantAnalysis as LDA\n",
    "from sklearn.linear_model import LogisticRegression\n",
    "from sklearn.pipeline import make_pipeline\n",
    "\n",
    "pipe_lr = make_pipeline(StandardScaler(),\n",
    "                        LDA(n_components=1),\n",
    "                        LogisticRegression())\n",
    "pipe_lr.fit(X_train, y_train)\n",
    "y_pred = pipe_lr.predict(X_test)\n",
    "train_acc = pipe_lr.score(X_train, y_train)\n",
    "test_acc = pipe_lr.score(X_test, y_test)\n",
    "print(f'Training Accuracy is {train_acc*100:.3f}%')\n",
    "print(f'Test Accuracy is {test_acc*100:.3f}%')"
   ]
  },
  {
   "cell_type": "code",
   "execution_count": 16,
   "id": "d001c75f",
   "metadata": {},
   "outputs": [
    {
     "name": "stdout",
     "output_type": "stream",
     "text": [
      "[[ 1417  1201]\n",
      " [  249 47529]]\n"
     ]
    }
   ],
   "source": [
    "# Evaluating using confusion matrix\n",
    "from sklearn.metrics import confusion_matrix\n",
    "y_pred = pipe_lr.predict(X_test)\n",
    "confmat = confusion_matrix(y_true=y_test, y_pred=y_pred)\n",
    "print(confmat)"
   ]
  },
  {
   "cell_type": "code",
   "execution_count": 17,
   "id": "7a19cf08",
   "metadata": {},
   "outputs": [
    {
     "name": "stdout",
     "output_type": "stream",
     "text": [
      "Precision: 0.975\n",
      "Recall: 0.995\n",
      "F1-Score: 0.985\n",
      "MCC: 0.665\n"
     ]
    }
   ],
   "source": [
    "# Model Scores\n",
    "from sklearn.metrics import precision_score\n",
    "from sklearn.metrics import recall_score, f1_score\n",
    "from sklearn.metrics import matthews_corrcoef\n",
    "\n",
    "pre_val = precision_score(y_true=y_test, y_pred=y_pred)\n",
    "print(f'Precision: {pre_val:.3f}')\n",
    "\n",
    "rec_val = recall_score(y_true=y_test, y_pred=y_pred)\n",
    "print(f'Recall: {rec_val:.3f}')\n",
    "\n",
    "f1_val = f1_score(y_true=y_test, y_pred=y_pred)\n",
    "print(f'F1-Score: {f1_val:.3f}')\n",
    "\n",
    "mcc_val = matthews_corrcoef(y_true=y_test, y_pred=y_pred)\n",
    "print(f'MCC: {mcc_val:.3f}')"
   ]
  },
  {
   "cell_type": "markdown",
   "id": "a352e5ff",
   "metadata": {},
   "source": [
    "#### Logistic regression model has a good precision, recall and f1-score, but its mcc score is quite low. A high mcc score is required as it is more reliable and truthfull score biomedical applications "
   ]
  },
  {
   "cell_type": "code",
   "execution_count": null,
   "id": "7bb89f78",
   "metadata": {},
   "outputs": [],
   "source": []
  },
  {
   "cell_type": "markdown",
   "id": "1c31457b",
   "metadata": {},
   "source": [
    "### Using alternative XGBoost model"
   ]
  },
  {
   "cell_type": "code",
   "execution_count": 18,
   "id": "88994a86",
   "metadata": {},
   "outputs": [],
   "source": [
    "from sklearn.metrics import accuracy_score"
   ]
  },
  {
   "cell_type": "code",
   "execution_count": 19,
   "id": "aeb23a1b",
   "metadata": {},
   "outputs": [
    {
     "name": "stderr",
     "output_type": "stream",
     "text": [
      "C:\\Users\\muham\\anaconda3\\envs\\myai\\lib\\site-packages\\xgboost\\sklearn.py:793: UserWarning: `eval_metric` in `fit` method is deprecated for better compatibility with scikit-learn, use `eval_metric` in constructor or`set_params` instead.\n",
      "  warnings.warn(\n"
     ]
    },
    {
     "name": "stdout",
     "output_type": "stream",
     "text": [
      "[18:03:45] WARNING: C:/Users/administrator/workspace/xgboost-win64_release_1.6.0/src/learner.cc:627: \n",
      "Parameters: { \"max_dept\" } might not be used.\n",
      "\n",
      "  This could be a false alarm, with some parameters getting used by language bindings but\n",
      "  then being mistakenly passed down to XGBoost core, or some parameter actually being used\n",
      "  but getting flagged wrongly here. Please open an issue if you find any such cases.\n",
      "\n",
      "\n",
      "XGBoost Train Accuracy is 0.995\n",
      "XGBoost Test Accuracy is 0.993\n"
     ]
    }
   ],
   "source": [
    "import xgboost as xgb\n",
    "model = xgb.XGBClassifier(n_estimators=1000, learning_rate=0.01,\n",
    "                          max_dept=4, random_state=123,\n",
    "                          use_label_encoder=False)\n",
    "gbm = model.fit(X_train, y_train, eval_metric='error')\n",
    "y_train_pred = gbm.predict(X_train)\n",
    "y_test_pred = gbm.predict(X_test)\n",
    "\n",
    "gbm_train = accuracy_score(y_train, y_train_pred)\n",
    "gbm_test = accuracy_score(y_test, y_test_pred)\n",
    "\n",
    "print(f'XGBoost Train Accuracy is {gbm_train:.3f}')\n",
    "print(f'XGBoost Test Accuracy is {gbm_test:.3f}')"
   ]
  },
  {
   "cell_type": "code",
   "execution_count": 20,
   "id": "b8902d91",
   "metadata": {},
   "outputs": [
    {
     "name": "stdout",
     "output_type": "stream",
     "text": [
      "              precision    recall  f1-score   support\n",
      "\n",
      "           0       0.95      0.91      0.93      2618\n",
      "           1       1.00      1.00      1.00     47778\n",
      "\n",
      "    accuracy                           0.99     50396\n",
      "   macro avg       0.97      0.96      0.96     50396\n",
      "weighted avg       0.99      0.99      0.99     50396\n",
      "\n"
     ]
    }
   ],
   "source": [
    "from sklearn.metrics import classification_report\n",
    "print(classification_report(y_test, y_test_pred))"
   ]
  },
  {
   "cell_type": "code",
   "execution_count": 21,
   "id": "cd800ecf",
   "metadata": {},
   "outputs": [
    {
     "name": "stdout",
     "output_type": "stream",
     "text": [
      "MCC XGBoost: 0.930\n"
     ]
    }
   ],
   "source": [
    "mcc_valxgb = matthews_corrcoef(y_true=y_test, y_pred=y_test_pred)\n",
    "print(f'MCC XGBoost: {mcc_valxgb:.3f}')"
   ]
  },
  {
   "cell_type": "code",
   "execution_count": 22,
   "id": "df17914f",
   "metadata": {},
   "outputs": [
    {
     "name": "stdout",
     "output_type": "stream",
     "text": [
      "[[ 2394   224]\n",
      " [  120 47658]]\n"
     ]
    }
   ],
   "source": [
    "confmatxgb = confusion_matrix(y_true=y_test, y_pred=y_test_pred)\n",
    "print(confmatxgb)"
   ]
  },
  {
   "cell_type": "markdown",
   "id": "4e306fc5",
   "metadata": {},
   "source": [
    "#### The XGBoost model gave a better mcc score"
   ]
  },
  {
   "cell_type": "code",
   "execution_count": null,
   "id": "f4269bd1",
   "metadata": {},
   "outputs": [],
   "source": []
  },
  {
   "cell_type": "code",
   "execution_count": null,
   "id": "e100adb0",
   "metadata": {},
   "outputs": [],
   "source": []
  }
 ],
 "metadata": {
  "kernelspec": {
   "display_name": "myai",
   "language": "python",
   "name": "myai"
  },
  "language_info": {
   "codemirror_mode": {
    "name": "ipython",
    "version": 3
   },
   "file_extension": ".py",
   "mimetype": "text/x-python",
   "name": "python",
   "nbconvert_exporter": "python",
   "pygments_lexer": "ipython3",
   "version": "3.10.6"
  }
 },
 "nbformat": 4,
 "nbformat_minor": 5
}
